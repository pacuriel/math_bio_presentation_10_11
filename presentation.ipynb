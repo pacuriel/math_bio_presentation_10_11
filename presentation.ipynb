{
 "cells": [
  {
   "cell_type": "markdown",
   "metadata": {},
   "source": [
    "# GNNs for Molecular Representation Learning (stc)\n",
    "\n",
    "## Math Bio Seminar\n",
    "\n",
    "### Pablo Curiel\n",
    "### 11 October 2023"
   ]
  },
  {
   "cell_type": "code",
   "execution_count": null,
   "metadata": {},
   "outputs": [],
   "source": []
  }
 ],
 "metadata": {
  "language_info": {
   "name": "python"
  }
 },
 "nbformat": 4,
 "nbformat_minor": 2
}
